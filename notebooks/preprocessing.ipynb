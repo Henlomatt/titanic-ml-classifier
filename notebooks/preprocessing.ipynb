{
 "cells": [
  {
   "cell_type": "markdown",
   "id": "5d42fd56-5633-4285-848b-b0538d2115fc",
   "metadata": {},
   "source": [
    "# Titanic Dataset Preprocessing 🚢\n",
    "\n",
    "This notebook prepares the Titanic dataset for modeling:\n",
    "\n",
    "- Loads raw CSVs from `data/raw/`\n",
    "- Cleans and imputes missing values\n",
    "- Encodes categorical variables\n",
    "- Applies feature engineering\n",
    "- Saves the processed dataset to `data/processed/processed_titanic.csv`"
   ]
  },
  {
   "cell_type": "code",
   "execution_count": 1,
   "id": "e8bc34da-0e05-4cb1-b4c7-f54dfc482814",
   "metadata": {},
   "outputs": [],
   "source": [
    "import pandas as pd\n",
    "import numpy as np\n",
    "import os\n",
    "\n",
    "# Ensure processed folder exists\n",
    "os.makedirs(\"../data/processed\", exist_ok=True)"
   ]
  },
  {
   "cell_type": "code",
   "execution_count": 2,
   "id": "70b2c478-e165-4e91-b7b6-96d606d00f2b",
   "metadata": {},
   "outputs": [
    {
     "name": "stdout",
     "output_type": "stream",
     "text": [
      "Train shape: (891, 12)\n",
      "Test shape: (418, 11)\n"
     ]
    },
    {
     "data": {
      "text/html": [
       "<div>\n",
       "<style scoped>\n",
       "    .dataframe tbody tr th:only-of-type {\n",
       "        vertical-align: middle;\n",
       "    }\n",
       "\n",
       "    .dataframe tbody tr th {\n",
       "        vertical-align: top;\n",
       "    }\n",
       "\n",
       "    .dataframe thead th {\n",
       "        text-align: right;\n",
       "    }\n",
       "</style>\n",
       "<table border=\"1\" class=\"dataframe\">\n",
       "  <thead>\n",
       "    <tr style=\"text-align: right;\">\n",
       "      <th></th>\n",
       "      <th>PassengerId</th>\n",
       "      <th>Survived</th>\n",
       "      <th>Pclass</th>\n",
       "      <th>Name</th>\n",
       "      <th>Sex</th>\n",
       "      <th>Age</th>\n",
       "      <th>SibSp</th>\n",
       "      <th>Parch</th>\n",
       "      <th>Ticket</th>\n",
       "      <th>Fare</th>\n",
       "      <th>Cabin</th>\n",
       "      <th>Embarked</th>\n",
       "    </tr>\n",
       "  </thead>\n",
       "  <tbody>\n",
       "    <tr>\n",
       "      <th>0</th>\n",
       "      <td>1</td>\n",
       "      <td>0</td>\n",
       "      <td>3</td>\n",
       "      <td>Braund, Mr. Owen Harris</td>\n",
       "      <td>male</td>\n",
       "      <td>22.0</td>\n",
       "      <td>1</td>\n",
       "      <td>0</td>\n",
       "      <td>A/5 21171</td>\n",
       "      <td>7.2500</td>\n",
       "      <td>NaN</td>\n",
       "      <td>S</td>\n",
       "    </tr>\n",
       "    <tr>\n",
       "      <th>1</th>\n",
       "      <td>2</td>\n",
       "      <td>1</td>\n",
       "      <td>1</td>\n",
       "      <td>Cumings, Mrs. John Bradley (Florence Briggs Th...</td>\n",
       "      <td>female</td>\n",
       "      <td>38.0</td>\n",
       "      <td>1</td>\n",
       "      <td>0</td>\n",
       "      <td>PC 17599</td>\n",
       "      <td>71.2833</td>\n",
       "      <td>C85</td>\n",
       "      <td>C</td>\n",
       "    </tr>\n",
       "    <tr>\n",
       "      <th>2</th>\n",
       "      <td>3</td>\n",
       "      <td>1</td>\n",
       "      <td>3</td>\n",
       "      <td>Heikkinen, Miss. Laina</td>\n",
       "      <td>female</td>\n",
       "      <td>26.0</td>\n",
       "      <td>0</td>\n",
       "      <td>0</td>\n",
       "      <td>STON/O2. 3101282</td>\n",
       "      <td>7.9250</td>\n",
       "      <td>NaN</td>\n",
       "      <td>S</td>\n",
       "    </tr>\n",
       "    <tr>\n",
       "      <th>3</th>\n",
       "      <td>4</td>\n",
       "      <td>1</td>\n",
       "      <td>1</td>\n",
       "      <td>Futrelle, Mrs. Jacques Heath (Lily May Peel)</td>\n",
       "      <td>female</td>\n",
       "      <td>35.0</td>\n",
       "      <td>1</td>\n",
       "      <td>0</td>\n",
       "      <td>113803</td>\n",
       "      <td>53.1000</td>\n",
       "      <td>C123</td>\n",
       "      <td>S</td>\n",
       "    </tr>\n",
       "    <tr>\n",
       "      <th>4</th>\n",
       "      <td>5</td>\n",
       "      <td>0</td>\n",
       "      <td>3</td>\n",
       "      <td>Allen, Mr. William Henry</td>\n",
       "      <td>male</td>\n",
       "      <td>35.0</td>\n",
       "      <td>0</td>\n",
       "      <td>0</td>\n",
       "      <td>373450</td>\n",
       "      <td>8.0500</td>\n",
       "      <td>NaN</td>\n",
       "      <td>S</td>\n",
       "    </tr>\n",
       "  </tbody>\n",
       "</table>\n",
       "</div>"
      ],
      "text/plain": [
       "   PassengerId  Survived  Pclass  \\\n",
       "0            1         0       3   \n",
       "1            2         1       1   \n",
       "2            3         1       3   \n",
       "3            4         1       1   \n",
       "4            5         0       3   \n",
       "\n",
       "                                                Name     Sex   Age  SibSp  \\\n",
       "0                            Braund, Mr. Owen Harris    male  22.0      1   \n",
       "1  Cumings, Mrs. John Bradley (Florence Briggs Th...  female  38.0      1   \n",
       "2                             Heikkinen, Miss. Laina  female  26.0      0   \n",
       "3       Futrelle, Mrs. Jacques Heath (Lily May Peel)  female  35.0      1   \n",
       "4                           Allen, Mr. William Henry    male  35.0      0   \n",
       "\n",
       "   Parch            Ticket     Fare Cabin Embarked  \n",
       "0      0         A/5 21171   7.2500   NaN        S  \n",
       "1      0          PC 17599  71.2833   C85        C  \n",
       "2      0  STON/O2. 3101282   7.9250   NaN        S  \n",
       "3      0            113803  53.1000  C123        S  \n",
       "4      0            373450   8.0500   NaN        S  "
      ]
     },
     "execution_count": 2,
     "metadata": {},
     "output_type": "execute_result"
    }
   ],
   "source": [
    "# Load raw train and test datasets\n",
    "train = pd.read_csv(\"../data/raw/train.csv\")\n",
    "test = pd.read_csv(\"../data/raw/test.csv\")\n",
    "\n",
    "print(\"Train shape:\", train.shape)\n",
    "print(\"Test shape:\", test.shape)\n",
    "train.head()"
   ]
  },
  {
   "cell_type": "markdown",
   "id": "48b26f59-8748-4e34-af81-860fad29fef1",
   "metadata": {},
   "source": [
    "## 1. Handle Missing Values\n",
    "We will:\n",
    "- Fill missing `Age` with median\n",
    "- Fill missing `Embarked` with mode\n",
    "- Drop `Cabin` (too many missing values)"
   ]
  },
  {
   "cell_type": "code",
   "execution_count": 3,
   "id": "751c9cb4-7629-4cd2-9ddd-c7bd460c9bf8",
   "metadata": {},
   "outputs": [],
   "source": [
    "df = train.copy()\n",
    "\n",
    "# Drop Cabin\n",
    "df = df.drop(\"Cabin\", axis=1)\n",
    "\n",
    "# Fill missing Age with median\n",
    "df[\"Age\"] = df[\"Age\"].fillna(df[\"Age\"].median())\n",
    "\n",
    "# Fill missing Embarked with mode\n",
    "df[\"Embarked\"] = df[\"Embarked\"].fillna(df[\"Embarked\"].mode()[0])"
   ]
  },
  {
   "cell_type": "markdown",
   "id": "bbc648b6-1ee1-4d1c-8dbb-ff1dd00add64",
   "metadata": {},
   "source": [
    "## 2. Feature Engineering\n",
    "- Extract `Title` from `Name`\n",
    "- Encode `Sex` (0=female, 1=male)\n",
    "- Map `Embarked` to numeric\n",
    "- Create `FamilySize` and `IsAlone`"
   ]
  },
  {
   "cell_type": "code",
   "execution_count": 4,
   "id": "7fe2f18c-ee1f-437a-8ffe-8dcd3dded35e",
   "metadata": {},
   "outputs": [],
   "source": [
    "# Extract Title\n",
    "df[\"Title\"] = df[\"Name\"].str.extract(\" ([A-Za-z]+)\\.\", expand=False)\n",
    "df[\"Title\"] = df[\"Title\"].replace([\"Mlle\",\"Ms\"], \"Miss\")\n",
    "df[\"Title\"] = df[\"Title\"].replace(\"Mme\", \"Mrs\")\n",
    "rare_titles = df[\"Title\"].value_counts()[df[\"Title\"].value_counts() < 10].index\n",
    "df[\"Title\"] = df[\"Title\"].replace(rare_titles, \"Rare\")\n",
    "\n",
    "# Encode categorical variables\n",
    "df[\"Sex\"] = df[\"Sex\"].map({\"female\": 0, \"male\": 1})\n",
    "df[\"Embarked\"] = df[\"Embarked\"].map({\"C\": 0, \"Q\": 1, \"S\": 2})\n",
    "\n",
    "# Family size & IsAlone\n",
    "df[\"FamilySize\"] = df[\"SibSp\"] + df[\"Parch\"] + 1\n",
    "df[\"IsAlone\"] = np.where(df[\"FamilySize\"] > 1, 0, 1)"
   ]
  },
  {
   "cell_type": "markdown",
   "id": "e81a1366-08a1-4306-8c4f-b3ee9ae7f5f8",
   "metadata": {},
   "source": [
    "## 3. Drop Unused Columns\n",
    "We remove:\n",
    "- `PassengerId` (not useful for training)\n",
    "- `Name`, `Ticket` (too specific)"
   ]
  },
  {
   "cell_type": "code",
   "execution_count": 5,
   "id": "4ef9f614-4b53-450d-bbc2-1f95496e287b",
   "metadata": {},
   "outputs": [],
   "source": [
    "df.drop([\"PassengerId\", \"Name\", \"Ticket\"], axis=1, inplace=True)"
   ]
  },
  {
   "cell_type": "markdown",
   "id": "9d6974e2-718f-4299-be2f-197f0b57b13b",
   "metadata": {},
   "source": [
    "## 4. Save Processed Dataset\n",
    "We now save the cleaned dataset to `data/processed/processed_titanic.csv`."
   ]
  },
  {
   "cell_type": "code",
   "execution_count": 6,
   "id": "e63c2038-42fb-408d-9ea0-d7c2c0724fd1",
   "metadata": {},
   "outputs": [
    {
     "name": "stdout",
     "output_type": "stream",
     "text": [
      "✅ Processed dataset saved to data/processed/processed_titanic.csv\n"
     ]
    }
   ],
   "source": [
    "df.to_csv(\"../data/processed/processed_titanic.csv\", index=False)\n",
    "print(\"✅ Processed dataset saved to data/processed/processed_titanic.csv\")"
   ]
  },
  {
   "cell_type": "code",
   "execution_count": null,
   "id": "c97bdf01-feb6-415b-aaf1-4a8cebc3c38f",
   "metadata": {},
   "outputs": [],
   "source": []
  }
 ],
 "metadata": {
  "kernelspec": {
   "display_name": "Python [conda env:titanic_env]",
   "language": "python",
   "name": "conda-env-titanic_env-py"
  },
  "language_info": {
   "codemirror_mode": {
    "name": "ipython",
    "version": 3
   },
   "file_extension": ".py",
   "mimetype": "text/x-python",
   "name": "python",
   "nbconvert_exporter": "python",
   "pygments_lexer": "ipython3",
   "version": "3.9.23"
  }
 },
 "nbformat": 4,
 "nbformat_minor": 5
}
